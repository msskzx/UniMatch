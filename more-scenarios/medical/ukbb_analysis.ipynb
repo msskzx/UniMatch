{
 "cells": [
  {
   "cell_type": "code",
   "execution_count": 2,
   "metadata": {},
   "outputs": [],
   "source": [
    "import yaml\n",
    "import pandas as pd\n",
    "\n",
    "cfg = yaml.load(open('configs/ukbb_test_20.yaml', \"r\"), Loader=yaml.Loader)"
   ]
  },
  {
   "cell_type": "code",
   "execution_count": 3,
   "metadata": {},
   "outputs": [
    {
     "name": "stdout",
     "output_type": "stream",
     "text": [
      "20\n",
      "430\n"
     ]
    }
   ],
   "source": [
    "df = pd.read_csv(cfg['results_path'])\n",
    "print(df['patient_id'].nunique())\n",
    "print(len(df))"
   ]
  },
  {
   "cell_type": "code",
   "execution_count": 4,
   "metadata": {},
   "outputs": [
    {
     "name": "stdout",
     "output_type": "stream",
     "text": [
      "DICE Mean:  76.16229749719223\n",
      "RV Mean:  72.86076602552873\n",
      "MYO Mean:  74.36380129157303\n",
      "LV Mean:  81.26232517447497\n"
     ]
    }
   ],
   "source": [
    "print(\"DICE Mean: \", df['dice_mean'].mean())\n",
    "print(\"RV Mean: \", df['dice_rv'].mean())\n",
    "print(\"MYO Mean: \", df['dice_myo'].mean())\n",
    "print(\"LV Mean: \", df['dice_lv'].mean())"
   ]
  },
  {
   "cell_type": "code",
   "execution_count": 15,
   "metadata": {},
   "outputs": [
    {
     "name": "stdout",
     "output_type": "stream",
     "text": [
      "99\n"
     ]
    }
   ],
   "source": [
    "filtered_rows = df[df['dice_mean'] < 70]\n",
    "print(len(filtered_rows))"
   ]
  },
  {
   "cell_type": "code",
   "execution_count": 16,
   "metadata": {},
   "outputs": [
    {
     "data": {
      "text/plain": [
       "slice_idx\n",
       "9     21\n",
       "8     21\n",
       "7     13\n",
       "10     9\n",
       "1      8\n",
       "2      8\n",
       "0      8\n",
       "11     6\n",
       "6      2\n",
       "12     1\n",
       "3      1\n",
       "4      1\n",
       "Name: count, dtype: int64"
      ]
     },
     "execution_count": 16,
     "metadata": {},
     "output_type": "execute_result"
    }
   ],
   "source": [
    "filtered_rows['slice_idx'].value_counts()"
   ]
  },
  {
   "cell_type": "code",
   "execution_count": null,
   "metadata": {},
   "outputs": [],
   "source": []
  },
  {
   "cell_type": "code",
   "execution_count": null,
   "metadata": {},
   "outputs": [],
   "source": []
  }
 ],
 "metadata": {
  "kernelspec": {
   "display_name": "unimatch",
   "language": "python",
   "name": "python3"
  },
  "language_info": {
   "codemirror_mode": {
    "name": "ipython",
    "version": 3
   },
   "file_extension": ".py",
   "mimetype": "text/x-python",
   "name": "python",
   "nbconvert_exporter": "python",
   "pygments_lexer": "ipython3",
   "version": "3.1.0"
  }
 },
 "nbformat": 4,
 "nbformat_minor": 2
}

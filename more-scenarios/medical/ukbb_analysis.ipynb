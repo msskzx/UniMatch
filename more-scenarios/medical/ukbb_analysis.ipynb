{
 "cells": [
  {
   "cell_type": "code",
   "execution_count": 1,
   "metadata": {},
   "outputs": [],
   "source": [
    "import yaml\n",
    "import pandas as pd\n",
    "\n",
    "cfg = yaml.load(open('configs/ukbb_test_20.yaml', \"r\"), Loader=yaml.Loader)"
   ]
  },
  {
   "cell_type": "code",
   "execution_count": 2,
   "metadata": {},
   "outputs": [
    {
     "name": "stdout",
     "output_type": "stream",
     "text": [
      "20\n",
      "416\n"
     ]
    }
   ],
   "source": [
    "df = pd.read_csv(cfg['results_path'])\n",
    "print(df['patient_id'].nunique())\n",
    "print(len(df))"
   ]
  },
  {
   "cell_type": "code",
   "execution_count": 3,
   "metadata": {},
   "outputs": [
    {
     "name": "stdout",
     "output_type": "stream",
     "text": [
      "DICE Mean:  81.58120456243978\n",
      "RV Mean:  78.05129358002513\n",
      "MYO Mean:  79.65056939082933\n",
      "LV Mean:  87.04175071646486\n"
     ]
    }
   ],
   "source": [
    "print(\"DICE Mean: \", df['dice_mean'].mean())\n",
    "print(\"RV Mean: \", df['dice_rv'].mean())\n",
    "print(\"MYO Mean: \", df['dice_myo'].mean())\n",
    "print(\"LV Mean: \", df['dice_lv'].mean())"
   ]
  },
  {
   "cell_type": "code",
   "execution_count": 4,
   "metadata": {},
   "outputs": [
    {
     "name": "stdout",
     "output_type": "stream",
     "text": [
      "79\n"
     ]
    }
   ],
   "source": [
    "filtered_rows = df[df['dice_mean'] < 50]\n",
    "print(len(filtered_rows))"
   ]
  },
  {
   "cell_type": "code",
   "execution_count": 5,
   "metadata": {},
   "outputs": [
    {
     "data": {
      "text/plain": [
       "slice_idx\n",
       "8     15\n",
       "9     12\n",
       "1     10\n",
       "10     8\n",
       "0      8\n",
       "7      8\n",
       "2      7\n",
       "11     6\n",
       "3      2\n",
       "12     1\n",
       "6      1\n",
       "4      1\n",
       "Name: count, dtype: int64"
      ]
     },
     "execution_count": 5,
     "metadata": {},
     "output_type": "execute_result"
    }
   ],
   "source": [
    "filtered_rows['slice_idx'].value_counts()"
   ]
  },
  {
   "cell_type": "code",
   "execution_count": null,
   "metadata": {},
   "outputs": [],
   "source": []
  },
  {
   "cell_type": "code",
   "execution_count": null,
   "metadata": {},
   "outputs": [],
   "source": []
  }
 ],
 "metadata": {
  "kernelspec": {
   "display_name": "unimatch",
   "language": "python",
   "name": "python3"
  },
  "language_info": {
   "codemirror_mode": {
    "name": "ipython",
    "version": 3
   },
   "file_extension": ".py",
   "mimetype": "text/x-python",
   "name": "python",
   "nbconvert_exporter": "python",
   "pygments_lexer": "ipython3",
   "version": "3.1.0"
  }
 },
 "nbformat": 4,
 "nbformat_minor": 2
}

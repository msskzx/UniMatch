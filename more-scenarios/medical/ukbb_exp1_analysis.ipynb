{
 "cells": [
  {
   "cell_type": "code",
   "execution_count": 1,
   "metadata": {},
   "outputs": [],
   "source": [
    "from yaml import load, Loader\n",
    "import pandas as pd\n",
    "import util.analysis_utils as nls\n",
    "\n",
    "%load_ext autoreload\n",
    "%autoreload 2"
   ]
  },
  {
   "cell_type": "code",
   "execution_count": 2,
   "metadata": {},
   "outputs": [
    {
     "name": "stderr",
     "output_type": "stream",
     "text": [
      "/tmp/ipykernel_3673008/3026087908.py:1: DtypeWarning: Columns (20,68,1186,1187,1188,1258,1259,1260,1552,2745,2746,2747,2748,2749,2750,2751,2752,2753,2754,2755,2756,2757,2758,2759,2760,2761,2762,2763,2764,2765,2766,2767,2768,2769,2770,2771,2772,2773,2774,2775,2776,2777,2778,2779,2780,2781,2782,2783,2784,2785,2786,2787,2788,2789,2790,2791,2792,2793,2794,2795,2796,2797,2856,2857,2858,2859,2860,2861,2862,2863,2864,2865,2866,2867,2868,2869,2870,2871,2872,2873,2874,2875,2876,2877,2878,2879,2880,2881,2882,2883,2884,2885,2886,2887,2888,2889,2890,2891,2892,2893,2894,2895,2896,2897,2898,2899,2900,2901,2902,2903,2904,2905,2906,2907,2908,2909,2910,2911,2912,2973,2974,2975,2976,2977,2978,2979,2980,2981,2982,2983,2984,2985,2986,2987,2988,2989,2990,2991,2992,2993,2994,2995,2996,2997,2998,2999,3000,3001,3002,3003,3004,3005,3006,3007,3008,3009,3010,3011,3012,3013,3014,3015,3016,3017,3018,3019,3020,3021,3022,3023,3024,3025,3084,3085,3086,3087,3088,3089,3090,3091,3092,3093,3094,3095,3096,3097,3098,3099,3100,3101,3102,3103,3104,3105,3106,3107,3108,3109,3110,3111,3112,3113,3114,3115,3116,3117,3118,3119,3120,3121,3122,3123,3124,3125,3126,3127,3128,3129,3130,3131,3132,3133,3134,3135,3136,3137,3138,3139,3140,3768,3769,3770,3771,3848,3849,3850,3851,3852,3853,3854,3855,3856,3857,3858,3859,3860,3861,3862,3863,3864,3865,3866,3878,3879,3881,3882,3883,3884,3885,4037,4039,5413,5414,5415,5419,5420,5421,5422,5423,5424,5425,5473,5474,5475,5585,5851,5853,5856,5858,5861,5863,5865,5867,5869,5871,5873,5875,5877,5879,6122,6124,6126,6128,6134,6136,6354,8175,8177,8179,8180,8181,8182,8183,8184,8185,8208,8209,8210,8211,8212,8213,8214,8215,8216,8217,8218,8219,8220,8221,8222,8223,8224,8225,8226,8227,8228,8230,8231,8232,8233,8234,8235,8236,8237,8238,8240,8241,8242,8243,8244,8245,8246,8247,8248,8249,8250,8276,8360,8363,8364,8365,8366,8367,8368,8369,8370,8371,8372,8373,8374,8375,8376,8377,8378,8379,8380,8381,8382,8383,8385,8386,8394,8395,8396,8397,8398,8399,8400,8401,8402,8403,8404,8405,8406,8407,8408,8409,8410,8411,8412,8413,8414,8415,8416,8417,8418,8419,8420,8421,8422,8423,8424,8443,8444,8445,8446,8447,8448,8449,8450,8451,8473,8474,8475,8476,8477,8478,8479,8480,8481,8482,8483,8484,8485,8486,8487,8488,8489,8490,8491,8492,8493,8494,8495,8496,8497,8498,8499,8500,8501,8502,8503,8504,8505,8506,8507,8508,8509,8510,8511,8512,8513,8514,8515,8516,8517,8518,8519,8520,8521,8522,8523,8544,8545,8546,8547,8548,8549,8550,8551,8552,8554,8584,8585,8586,8587,8588,8589,8590,8591,8592,8593,8594,8595,8596,8597,8598,8599,8600,8601,8602,8603,8604,8605,8606,8607,8608,8609,8610,8611,8612,8613,8614,8615,8616,8617,8618,8619,8620,8621,8622,8623,8624,8625,8626,8627,8628,8629,8630,8631,8632,8633,8634,8635,8636,8637,8638,8639,8640,8641,8642,8643,8644,8645,8646,8647,8648,8649,8650,8651,8652,8653,8654,8655,8656,8657,8658,8659,8660,8661,8662,8663,8664,8665,8666,8667,8668,8669,8670,8671,8672,8673,8674,8675,8676,8677,8678,8679,8680,8681,8682,8683,8684,8685,8686,8687,8688,8689,8690,8691,8692,8693,8694,8695,8696,8697,8698,8699,8700,8701,8702,8703,8760,8761,8762,8763,8764,8765,8766,8767,8768,8797,8817,8818,8819,8820,8821,8822,8823,8824,8825,8826,8827,8828,8829,8830,8831,8839,8840,8841,8842,8843,8844,8856,8857,8858,8859,8860,8861,8862,8863,8864,8865,8866,8867,8868,8869,8870,8871,8872,8873,8874,8875,8876,8877,8878,8879,8880,8881,8882,8883,8884,8885,8886,8887,8888,8889,8890,8891,8892,8893,8894,8895,8896,8897,8898,8899,8900,8901,8902,8903,8904,8905,8906,8944,8945,8946,8947,8949,8955,8956,8957,8958,8959,8960,8961,8962,8963,9000,9001,9002,9003,9034,9035,9036,9037,9038,9041,9042,9043,9044,9045,9046,9055,9056,9058,9060,9188,9189,9190,9191,9192,9193,9213,9214,9215,9216,9217,9218,9219,9220,9221,9222,9223,9224,9225,9226,9227,9228,9229,9230,9231,9232,9233,9234,9235,9236,9237,9238,9239,9240,9241,9242,9243,9270,9271,9272,9273,9274,9275,9276,9277,9278,9279,9280,9281,9282,9283,9284,9285,9286,9287,9288,9289,9290,9291,9292,9293,9294,9295,9296,9297,9298,9299,9300,9301,9302,9303,9304,9305,9306,9307,9308,9309,9310,9311,9312,9313,9314,9315,9316,9317,9318,9319,9320,9341,9342,9343,9344,9345,9346,9347,9348,9349,9350,9351,9387,9388,9389,9390,9391,9392,9393,9394,9395,9396,9397,9398,9399,9400,9401,9402,9403,9404,9405,9406,9407,9408,9409,9410,9411,9412,9413,9414,9415,9416,9417,9418,9419,9420,9421,9422,9423,9424,9425,9426,9427,9428,9429,9430,9431,9432,9433,9434,9435,9436,9437,9438,9439,9440,9441,9442,9443,9444,9445,9446,9447,9448,9449,9450,9451,9452,9453,9454,9455,9456,9457,9458,9459,9460,9461,9462,9463,9464,9465,9466,9467,9468,9469,9470,9471,9472,9473,9474,9475,9476,9477,9478,9479,9480,9481,9482,9483,9484,9485,9486,9487,9488,9489,9490,9491,9492,9493,9494,9495,9496,9497,9498,9499,9500,9501,9502,9503,9504,9505,9506,9507,9508,9509,9510,9511,9512,9513,9514,9515,9516,9517,9518,9519,9520,9521,9522,9523,9524,9525,9526,9527,9528,9529,9530,9531,9532,9533,9534,9535,9612,9613,9614,9615,9616,9617,9618,9619,9620,9621,9622,9623,9624,9676,9677,9678,9679,9680,9681,9682,9683,9684,9685,9686,9687,9688,9689,9690,9691,9692,9693,9694,9695,9696,9697,9698,9699,9700,9701,9702,9703,9704,9705,9706,9707,9708,9709,9710,9711,9712,9713,9714,9715,9716,9717,9718,9719,9720,9721,9722,9723,9724,9725,9726,9727,9728,9729,9730,9731,9732,9733,9734,9735,9736,9737,9738,9739,9817,9818,9819,9820,9821,9822,9823,9824,9825,9826,9827,9828,9829,9830,9831,9832,9833,9834,9835,9836,9837,9838,9839,9840,9841,9842,9843,9844,9845,9846,9847,9848,9849,9850,9851,9852,9853,9854,9855,9856,9857,9858,9859,9860,9861,9862,9863,9864,9865,9866,9867,9868,9869,9870,9871,9872,9873,9874,9875,9876,9877,9878,9879,9880,9881,9882,9883,9884,9885,9886,9887,9888,9889,9890,9891,9892,9893,9894,9895,9896,9897,9898,9899,9900,9901,9902,9903,9904,9905,9906,9907,9908,9909,9910,9911,9912,9913,9914,9915,9916,9917,9918,9919,9920,9921,9922,9923,9924,9925,9926,9927,9928,9929,9930,9931,9932,9933,9934,9935,9936,9937,9938,9939,9940,9941,9942,9943,9944,9945,9946,9947,9948,9949,9950,9951,9952,9953,9954,9955,9956,9957,9958,9959,9960,9961,9962,9963,9964,9965,10042,10043,10044,10045,10046,10047,10048,10049,10050,10051,10052,10053,10054,10106,10107,10108,10109,10110,10111,10112,10113,10114,10115,10116,10117,10118,10119,10120,10121,10122,10123,10124,10125,10126,10127,10128,10129,10130,10131,10132,10133,10134,10135,10136,10137,10138,10139,10140,10141,10142,10143,10144,10145,10146,10147,10148,10149,10150,10151,10152,10153,10154,10155,10156,10157,10158,10159,10160,10161,10162,10163,10164,10165,10166,10213,10214,10215,10216,10217,10218,10219,10229,10230,10231,10232,10233,10234,10235,10238,10239,10240,10241,10242,10243,10244,10245,10246,10247,10248,10355,10356,10357,10358,10360,10361,10362,10364,10366,10367,10368,10369,10370,10371,10372,10374,10375,10376,10377,10378,10379,10380,10381,10382,10383,10384,10385,10386,10387,10388,10389,10390,10392,10393,10394,10395,10399,10400,10401,10402,10403,10405,10406,10407,10408,10409,10410,10412) have mixed types. Specify dtype option on import or set low_memory=False.\n",
      "  og_df = pd.read_csv('/vol/aimspace/projects/ukbb/data/tabular/ukb668815_imaging.csv')\n"
     ]
    }
   ],
   "source": [
    "og_df = pd.read_csv('/vol/aimspace/projects/ukbb/data/tabular/ukb668815_imaging.csv')\n",
    "patients_df = nls.prep_patients_df(og_df)"
   ]
  },
  {
   "cell_type": "code",
   "execution_count": 8,
   "metadata": {},
   "outputs": [],
   "source": [
    "exp = 4\n",
    "split = 18\n",
    "seed = 42\n",
    "train_df = pd.read_csv(f'splits/ukbb/exp{exp}/{split}/seed{seed}/val.csv')\n",
    "train_df = pd.merge(train_df, patients_df, how='inner', on='eid')\n",
    "train_df.to_csv(f'splits/ukbb/exp{exp}/{split}/seed{seed}/val_mt.csv', index=False)"
   ]
  },
  {
   "cell_type": "code",
   "execution_count": 3,
   "metadata": {},
   "outputs": [
    {
     "name": "stderr",
     "output_type": "stream",
     "text": [
      "/tmp/ipykernel_1344226/3215384523.py:22: FutureWarning: The behavior of DataFrame concatenation with empty or all-NA entries is deprecated. In a future version, this will no longer exclude empty or all-NA columns when determining the result dtypes. To retain the old behavior, exclude the relevant entries before the concat operation.\n",
      "  sex_df = pd.concat([sex_df, res_df], ignore_index=True)\n"
     ]
    }
   ],
   "source": [
    "columns = [\n",
    "    'experiment', 'model', 'train_set', 'test_set',\n",
    "    'dice_mean', 'dice_lv', 'dice_rv', 'dice_myo', \n",
    "    'male', 'male_lv', 'male_rv', 'male_myo',\n",
    "    'female', 'female_lv', 'female_rv', 'female_myo',\n",
    "    'white', 'white_rv', 'white_lv', 'white_myo',\n",
    "    'asian', 'asian_rv', 'asian_lv', 'asian_myo',\n",
    "    'black', 'black_rv', 'black_lv', 'black_myo',\n",
    "    'white_male', 'asian_male', 'black_male',\n",
    "    'white_female', 'asian_female', 'black_female',\n",
    "    'low_scores_prcnt'\n",
    "]\n",
    "\n",
    "sex_df = pd.DataFrame(columns=columns)\n",
    "\n",
    "for exp in [1]:\n",
    "    cfg = load(open(f'configs/ukbb/test/exp{exp}/sex.yaml', 'r'), Loader=Loader)\n",
    "    for seed in [42]:\n",
    "        test_sex_df = pd.read_csv(f'outputs/results/csv/ukbb/exp{exp}/seed{seed}/sex.csv')\n",
    "        test_sex_merged_df = nls.merge_results_patients(test_sex_df, patients_df)\n",
    "        res_df = nls.get_all_results(test_sex_merged_df, cfg)\n",
    "        sex_df = pd.concat([sex_df, res_df], ignore_index=True)"
   ]
  },
  {
   "cell_type": "code",
   "execution_count": 19,
   "metadata": {},
   "outputs": [],
   "source": [
    "from scipy import stats"
   ]
  },
  {
   "cell_type": "code",
   "execution_count": 20,
   "metadata": {},
   "outputs": [
    {
     "name": "stdout",
     "output_type": "stream",
     "text": [
      "t-statistic: -0.03619977051917997\n",
      "p-value: 0.9711234163495732\n",
      "There is not sufficient evidence (p-value >= 0.05) to conclude a statistically significant difference in DSC score between males and females.\n",
      "\n",
      "t-statistic: 3.5940316930759293\n",
      "p-value: 0.00032640397697082484\n",
      "There is a statistically significant difference (p-value < 0.05) in DSC score between white and asian.\n",
      "\n",
      "t-statistic: 3.541525074495342\n",
      "p-value: 0.00039878610874328785\n",
      "There is a statistically significant difference (p-value < 0.05) in DSC score between white and black.\n",
      "\n",
      "t-statistic: 0.415421873546788\n",
      "p-value: 0.6778594662581314\n",
      "There is not sufficient evidence (p-value >= 0.05) to conclude a statistically significant difference in DSC score between asian and black.\n",
      "\n"
     ]
    }
   ],
   "source": [
    "def ttest_dfs(df1, df2, g1, g2):\n",
    "    t_statistic, p_value = stats.ttest_ind(df1, df2)\n",
    "\n",
    "    print(\"t-statistic:\", t_statistic)\n",
    "    print(\"p-value:\", p_value)\n",
    "\n",
    "    if p_value < 0.05:\n",
    "        print(f'There is a statistically significant difference (p-value < 0.05) in DSC score between {g1} and {g2}.')\n",
    "    else:\n",
    "        print(f'There is not sufficient evidence (p-value >= 0.05) to conclude a statistically significant difference in DSC score between {g1} and {g2}.')\n",
    "    print()\n",
    "\n",
    "def ttest_model(df):\n",
    "    males_df = df[df['sex'] == 1]['dice_mean']\n",
    "    females_df = df[df['sex'] == 0]['dice_mean']\n",
    "    ttest_dfs(males_df, females_df, 'males', 'females')\n",
    "\n",
    "    cond = df['ethnicity'].astype(str).str.startswith('1')\n",
    "    white_df = df[cond]['dice_mean']\n",
    "    cond = df['ethnicity'].astype(str).str.startswith('3')\n",
    "    asian_df = df[cond]['dice_mean']\n",
    "    cond = df['ethnicity'].astype(str).str.startswith('4')\n",
    "    black_df = df[cond]['dice_mean']\n",
    "\n",
    "    ttest_dfs(white_df, asian_df, 'white', 'asian')\n",
    "    ttest_dfs(white_df, black_df, 'white', 'black')\n",
    "    ttest_dfs(asian_df, black_df, 'asian', 'black')\n",
    "    \n",
    "\n",
    "ttest_model(test_sex_merged_df)"
   ]
  },
  {
   "cell_type": "code",
   "execution_count": null,
   "metadata": {},
   "outputs": [],
   "source": []
  },
  {
   "cell_type": "code",
   "execution_count": null,
   "metadata": {},
   "outputs": [],
   "source": [
    "nls.boxplot_sex_dice(sex_df)\n"
   ]
  },
  {
   "cell_type": "code",
   "execution_count": null,
   "metadata": {},
   "outputs": [],
   "source": [
    "sex_df_T = sex_df.transpose().reset_index()\n",
    "sex_df_T.columns = ['Category', 'Test Set 1']"
   ]
  },
  {
   "cell_type": "code",
   "execution_count": 17,
   "metadata": {},
   "outputs": [],
   "source": [
    "cfg = load(open('configs/ukbb/test/exp1/ethn.yaml', 'r'), Loader=Loader)\n",
    "test_ethn_df = pd.read_csv(f'outputs/results/csv/ukbb/exp1/seed42/ethn.csv')\n",
    "test_ethn_merged_df = nls.merge_results_patients(test_ethn_df, patients_df)\n",
    "ethn_df = nls.get_all_results(test_ethn_merged_df, cfg)"
   ]
  },
  {
   "cell_type": "code",
   "execution_count": 21,
   "metadata": {},
   "outputs": [
    {
     "name": "stdout",
     "output_type": "stream",
     "text": [
      "t-statistic: 1.4744334809219704\n",
      "p-value: 0.1405018924079896\n",
      "There is not sufficient evidence (p-value >= 0.05) to conclude a statistically significant difference in DSC score between males and females.\n",
      "\n",
      "t-statistic: -0.04716286435965624\n",
      "p-value: 0.9623895715829087\n",
      "There is not sufficient evidence (p-value >= 0.05) to conclude a statistically significant difference in DSC score between white and asian.\n",
      "\n",
      "t-statistic: -0.7830142425720983\n",
      "p-value: 0.4337385188461017\n",
      "There is not sufficient evidence (p-value >= 0.05) to conclude a statistically significant difference in DSC score between white and black.\n",
      "\n",
      "t-statistic: -0.7179938482856943\n",
      "p-value: 0.47287185370486473\n",
      "There is not sufficient evidence (p-value >= 0.05) to conclude a statistically significant difference in DSC score between asian and black.\n",
      "\n"
     ]
    }
   ],
   "source": [
    "ttest_model(test_ethn_merged_df)"
   ]
  },
  {
   "cell_type": "code",
   "execution_count": 32,
   "metadata": {},
   "outputs": [
    {
     "name": "stdout",
     "output_type": "stream",
     "text": [
      "\\begin{longtable}{lll}\n",
      "\\caption{Model 1 Performance} \\\\\n",
      "\\toprule\n",
      "Category & Test Set 1 & Test Set 2 \\\\\n",
      "\\midrule\n",
      "\\endfirsthead\n",
      "\\caption[]{Model 1 Performance} \\\\\n",
      "\\toprule\n",
      "Category & Test Set 1 & Test Set 2 \\\\\n",
      "\\midrule\n",
      "\\endhead\n",
      "\\midrule\n",
      "\\multicolumn{3}{r}{Continued on next page} \\\\\n",
      "\\midrule\n",
      "\\endfoot\n",
      "\\bottomrule\n",
      "\\endlastfoot\n",
      "dice_mean & 92.194169 & 91.106028 \\\\\n",
      "dice_lv & 94.909766 & 94.143639 \\\\\n",
      "dice_rv & 90.823334 & 89.617494 \\\\\n",
      "dice_myo & 90.849408 & 89.556952 \\\\\n",
      "male & 92.190938 & 91.555495 \\\\\n",
      "male_lv & 94.865803 & 94.228681 \\\\\n",
      "male_rv & 90.667754 & 89.932369 \\\\\n",
      "male_myo & 91.039257 & 90.505436 \\\\\n",
      "female & 92.197605 & 90.639029 \\\\\n",
      "female_lv & 94.956512 & 94.055280 \\\\\n",
      "female_rv & 90.988760 & 89.290336 \\\\\n",
      "female_myo & 90.647544 & 88.571470 \\\\\n",
      "white & 92.470077 & 91.986081 \\\\\n",
      "white_rv & 90.380295 & 90.942644 \\\\\n",
      "white_lv & 95.556949 & 95.321098 \\\\\n",
      "white_myo & 91.472988 & 89.694500 \\\\\n",
      "asian & 91.719302 & 92.155741 \\\\\n",
      "asian_rv & 89.816690 & 90.530380 \\\\\n",
      "asian_lv & 94.682516 & 94.859992 \\\\\n",
      "asian_myo & 90.658700 & 91.076852 \\\\\n",
      "black & 90.982253 & 91.406135 \\\\\n",
      "black_rv & 88.855189 & 89.692109 \\\\\n",
      "black_lv & 95.113475 & 95.241322 \\\\\n",
      "black_myo & 88.978094 & 89.284975 \\\\\n",
      "white_male & 92.397797 & 90.431073 \\\\\n",
      "asian_male & 91.350297 & 92.060546 \\\\\n",
      "black_male & 90.751102 & 92.080667 \\\\\n",
      "white_female & 92.376524 & 91.315370 \\\\\n",
      "asian_female & 91.212682 & 89.507563 \\\\\n",
      "black_female & 91.398476 & 90.879934 \\\\\n",
      "low_scores_prcnt & 2.720892 & 3.652174 \\\\\n",
      "\\end{longtable}\n",
      "\n"
     ]
    }
   ],
   "source": [
    "\n",
    "ethn_df_T = ethn_df.transpose().reset_index()\n",
    "ethn_df_T.columns = ['Category', 'Test Set 2']\n",
    "inner_join_df = pd.merge(sex_df_T, ethn_df_T, on='Category', how='inner')\n",
    "table = inner_join_df.iloc[4:].to_latex(index=False, longtable=True, caption='Model 1 Performance')\n",
    "print(table)"
   ]
  },
  {
   "cell_type": "code",
   "execution_count": 7,
   "metadata": {},
   "outputs": [
    {
     "data": {
      "image/png": "[encoded data removed]",
      "text/plain": [
       "<Figure size 640x480 with 1 Axes>"
      ]
     },
     "metadata": {},
     "output_type": "display_data"
    },
    {
     "data": {
      "text/plain": [
       "2.72089222190174"
      ]
     },
     "execution_count": 7,
     "metadata": {},
     "output_type": "execute_result"
    }
   ],
   "source": [
    "nls.get_slices(test_sex_merged_df, cfg, plot=True)"
   ]
  },
  {
   "cell_type": "code",
   "execution_count": null,
   "metadata": {},
   "outputs": [],
   "source": []
  }
 ],
 "metadata": {
  "kernelspec": {
   "display_name": "unimatch",
   "language": "python",
   "name": "python3"
  },
  "language_info": {
   "codemirror_mode": {
    "name": "ipython",
    "version": 3
   },
   "file_extension": ".py",
   "mimetype": "text/x-python",
   "name": "python",
   "nbconvert_exporter": "python",
   "pygments_lexer": "ipython3",
   "version": "3.11.9"
  }
 },
 "nbformat": 4,
 "nbformat_minor": 2
}

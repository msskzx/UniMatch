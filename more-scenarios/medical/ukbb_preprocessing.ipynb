{
 "cells": [
  {
   "cell_type": "code",
   "execution_count": null,
   "metadata": {},
   "outputs": [
    {
     "ename": "",
     "evalue": "",
     "output_type": "error",
     "traceback": [
      "\u001b[1;31mFailed to start the Kernel. \n",
      "\u001b[1;31mUnable to start Kernel 'unimatch (Python 3.1.-1)' due to a timeout waiting for the ports to get used. \n",
      "\u001b[1;31mView Jupyter <a href='command:jupyter.viewOutput'>log</a> for further details."
     ]
    }
   ],
   "source": [
    "import pandas as pd\n",
    "import util.analysis_utils as nls\n",
    "\n",
    "%load_ext autoreload\n",
    "%autoreload 2"
   ]
  },
  {
   "cell_type": "code",
   "execution_count": null,
   "metadata": {},
   "outputs": [],
   "source": [
    "og_df = pd.read_csv('/vol/aimspace/projects/ukbb/data/tabular/ukb668815_imaging.csv')\n",
    "patients_df = nls.prep_patients_df(og_df)"
   ]
  },
  {
   "cell_type": "code",
   "execution_count": 4,
   "metadata": {},
   "outputs": [],
   "source": [
    "exp = 4\n",
    "split = 18\n",
    "seed = 42\n",
    "label_mapping = {'1': 0, '3': 1, '4': 2}\n",
    "\n",
    "#for file in ['train', 'labeled', 'val']:\n",
    "for file in ['labeled']:\n",
    "\n",
    "    df = pd.read_csv(f'splits/ukbb/exp{exp}/{split}/seed{seed}/{file}.csv')\n",
    "    df = pd.merge(df, patients_df, how='inner', on='eid')\n",
    "\n",
    "    df['sex'] = df['sex'].astype(int)\n",
    "    df['ethnicity'] = df['ethnicity'].astype(str)\n",
    "\n",
    "    for index, row in df.iterrows():\n",
    "        df.at[index, 'ethnicity'] = label_mapping[row['ethnicity'][0]]\n",
    "    \n",
    "    df['ethnicity'] = df['ethnicity'].astype(int)\n",
    "\n",
    "    df.to_csv(f'splits/ukbb/exp{exp}/{split}/seed{seed}/{file}_mt.csv', index=False)"
   ]
  },
  {
   "cell_type": "code",
   "execution_count": null,
   "metadata": {},
   "outputs": [
    {
     "ename": "",
     "evalue": "",
     "output_type": "error",
     "traceback": [
      "\u001b[1;31mFailed to start the Kernel. \n",
      "\u001b[1;31mUnable to start Kernel 'unimatch (Python 3.1.-1)' due to a timeout waiting for the ports to get used. \n",
      "\u001b[1;31mView Jupyter <a href='command:jupyter.viewOutput'>log</a> for further details."
     ]
    }
   ],
   "source": [
    "exp = 4\n",
    "split = 18\n",
    "seed = 42\n",
    "file = 'train'\n",
    "df = pd.read_csv(f'splits/ukbb/exp{exp}/{split}/seed{seed}/{file}.csv')\n",
    "df.head()"
   ]
  },
  {
   "cell_type": "code",
   "execution_count": null,
   "metadata": {},
   "outputs": [],
   "source": []
  }
 ],
 "metadata": {
  "kernelspec": {
   "display_name": "unimatch",
   "language": "python",
   "name": "python3"
  },
  "language_info": {
   "codemirror_mode": {
    "name": "ipython",
    "version": 3
   },
   "file_extension": ".py",
   "mimetype": "text/x-python",
   "name": "python",
   "nbconvert_exporter": "python",
   "pygments_lexer": "ipython3",
   "version": "3.1.-1"
  }
 },
 "nbformat": 4,
 "nbformat_minor": 2
}

{
 "cells": [
  {
   "cell_type": "code",
   "execution_count": null,
   "metadata": {},
   "outputs": [],
   "source": [
    "from yaml import load, Loader\n",
    "import pandas as pd\n",
    "from util.analysis_utils import plot_age_dist, plot_sex_dist, get_results, get_group_results, merge_results_patients, prep_patients_df\n",
    "\n",
    "%load_ext autoreload\n",
    "%autoreload 2"
   ]
  },
  {
   "cell_type": "markdown",
   "metadata": {},
   "source": [
    "# Results"
   ]
  },
  {
   "cell_type": "markdown",
   "metadata": {},
   "source": [
    "og_df = pd.read_csv('/vol/aimspace/projects/ukbb/data/tabular/ukb668815_imaging.csv')\n",
    "patients_df = prep_patients_df(og_df)"
   ]
  },
  {
   "cell_type": "markdown",
   "metadata": {},
   "source": [
    "## Sex Controlled Test Set"
   ]
  },
  {
   "cell_type": "code",
   "execution_count": null,
   "metadata": {},
   "outputs": [],
   "source": [
    "cfg = load(open('configs/ukbb_test_sex.yaml', 'r'), Loader=Loader)\n",
    "test_sex_df = pd.read_csv(cfg['results_path']) \n",
    "test_sex_merged_df = merge_results_patients(test_sex_df, patients_df)\n",
    "get_results(test_sex_merged_df)"
   ]
  },
  {
   "cell_type": "markdown",
   "metadata": {},
   "source": [
    "Most slices with low scores are either near the apex or the base where the segmentation ground truth is not meaningful for the task."
   ]
  },
  {
   "cell_type": "markdown",
   "metadata": {},
   "source": [
    "get_group_results(test_sex_merged_df)"
   ]
  },
  {
   "cell_type": "markdown",
   "metadata": {},
   "source": [
    "## Ethnicity Controlled Test Set"
   ]
  },
  {
   "cell_type": "code",
   "execution_count": null,
   "metadata": {},
   "outputs": [],
   "source": [
    "cfg = load(open('configs/ukbb_test_ethn.yaml', 'r'), Loader=Loader)\n",
    "test_ethn_df = pd.read_csv(cfg['results_path'])\n",
    "test_ethn_merged_df = merge_results_patients(test_ethn_df, patients_df)\n",
    "get_results(test_ethn_merged_df)"
   ]
  },
  {
   "cell_type": "code",
   "execution_count": null,
   "metadata": {},
   "outputs": [],
   "source": [
    "get_group_results(test_ethn_merged_df)"
   ]
  }
 ],
 "metadata": {
  "language_info": {
   "name": "python"
  }
 },
 "nbformat": 4,
 "nbformat_minor": 2
}
